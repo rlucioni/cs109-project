{
 "metadata": {
  "name": ""
 },
 "nbformat": 3,
 "nbformat_minor": 0,
 "worksheets": [
  {
   "cells": [
    {
     "cell_type": "markdown",
     "metadata": {},
     "source": [
      "# The Evolution of the American Presidency #\n",
      "\n",
      "#### Renzo Lucioni, Kathy Lin, Sherrie Wang, Matt Moellman ####"
     ]
    },
    {
     "cell_type": "code",
     "collapsed": false,
     "input": [
      "# special IPython command to prepare the notebook for matplotlib\n",
      "%matplotlib inline \n",
      "\n",
      "from fnmatch import fnmatch\n",
      "\n",
      "import numpy as np\n",
      "import pandas as pd\n",
      "import matplotlib.pyplot as plt\n",
      "import requests\n",
      "from pattern import web\n",
      "import json\n",
      "import re\n",
      "import sys\n",
      "import datetime as dt\n",
      "\n",
      "# set some nicer defaults for matplotlib\n",
      "from matplotlib import rcParams\n",
      "\n",
      "#these colors come from colorbrewer2.org. Each is an RGB triplet\n",
      "dark2_colors = [(0.10588235294117647, 0.6196078431372549, 0.4666666666666667),\n",
      "                (0.8509803921568627, 0.37254901960784315, 0.00784313725490196),\n",
      "                (0.4588235294117647, 0.4392156862745098, 0.7019607843137254),\n",
      "                (0.9058823529411765, 0.1607843137254902, 0.5411764705882353),\n",
      "                (0.4, 0.6509803921568628, 0.11764705882352941),\n",
      "                (0.9019607843137255, 0.6705882352941176, 0.00784313725490196),\n",
      "                (0.6509803921568628, 0.4627450980392157, 0.11372549019607843),\n",
      "                (0.4, 0.4, 0.4)]\n",
      "\n",
      "rcParams['figure.figsize'] = (10, 6)\n",
      "rcParams['figure.dpi'] = 150\n",
      "rcParams['axes.color_cycle'] = dark2_colors\n",
      "rcParams['lines.linewidth'] = 2\n",
      "rcParams['axes.grid'] = True\n",
      "rcParams['axes.facecolor'] = '#eeeeee'\n",
      "rcParams['font.size'] = 14\n",
      "rcParams['patch.edgecolor'] = 'none'"
     ],
     "language": "python",
     "metadata": {},
     "outputs": [],
     "prompt_number": 23
    },
    {
     "cell_type": "markdown",
     "metadata": {},
     "source": [
      "*Insert introduction*"
     ]
    },
    {
     "cell_type": "markdown",
     "metadata": {},
     "source": [
      "### Data Collection ###\n",
      "\n",
      "We will gather our data by scraping the [data](http://www.presidency.ucsb.edu/data.php) and [documents](http://www.presidency.ucsb.edu/index_docs.php) web archives maintained by The American Presidency Project at UCSB. We'll start by scraping the State of the Union addresses in the documents archive."
     ]
    },
    {
     "cell_type": "code",
     "collapsed": false,
     "input": [
      "def get_document(url):\n",
      "    \"Given a url of document in the archive, get president, year, and text. Returns dictionary.\"\n",
      "    html = requests.get(url).text\n",
      "    dom = web.Element(html)\n",
      "    data = {}\n",
      "    i = dom.by_tag('meta')[3]\n",
      "    data['president'] = i.attributes['content'].split(':')[0]\n",
      "    data['year'] = i.attributes['content'].split('-')[-1].split()[-1]\n",
      "    text = dom.by_tag('span.displaytext')[0].content\n",
      "    for p in dom.by_tag('p'):\n",
      "        t = p.content\n",
      "        if fnmatch(t, \"*<hr*\"):\n",
      "            text += t.split('<hr')[0]\n",
      "        elif fnmatch(t, \"*<div*\"):\n",
      "            text += t.split('<div')[0]\n",
      "        else:\n",
      "            text += p.content\n",
      "#     text = text.decode('utf-8', 'ignore')\n",
      "#     text = text.encode('utf-8')\n",
      "    # strip out any remaining HTML tags\n",
      "    text = re.sub('<[^>]*>', '', text)\n",
      "    # replace unicode emdashes with hyphens\n",
      "    text = re.sub('\\x97', ' - ', text)\n",
      "    # remove bracketed cues (e.g., [applause])\n",
      "    text = re.sub('\\[.*\\]', '', text)\n",
      "    # replace HTML emdash with hyphen\n",
      "    data['text'] = re.sub('&mdash;', ' - ', text)\n",
      "    return data\n"
     ],
     "language": "python",
     "metadata": {},
     "outputs": [],
     "prompt_number": 24
    },
    {
     "cell_type": "code",
     "collapsed": false,
     "input": [
      "def get_all_sotus():\n",
      "    \"Visits website with links to all SOTUs. Scrapes each one. Writes JSON to file.\"\n",
      "    url = \"http://www.presidency.ucsb.edu/sou.php\"\n",
      "    html = requests.get(url).text\n",
      "    dom = web.Element(html)\n",
      "    sotus = []\n",
      "    for link in web.find_urls(dom):\n",
      "        if fnmatch(link, \"*pid*\"):\n",
      "            sotus.append(get_document(link))\n",
      "    \n",
      "    f = open('sotus.json', 'w')\n",
      "    f.write(json.dumps(sotus, indent=2))\n",
      "    f.close()\n"
     ],
     "language": "python",
     "metadata": {},
     "outputs": [],
     "prompt_number": 25
    },
    {
     "cell_type": "code",
     "collapsed": false,
     "input": [
      "# toggle to scrape and store SOTU data\n",
      "# get_all_sotus()\n"
     ],
     "language": "python",
     "metadata": {},
     "outputs": [],
     "prompt_number": 26
    },
    {
     "cell_type": "code",
     "collapsed": false,
     "input": [
      "# read in State of the Union data\n",
      "f = open('sotus.json')\n",
      "raw = f.read()\n",
      "sotus = json.loads(raw)\n"
     ],
     "language": "python",
     "metadata": {},
     "outputs": [],
     "prompt_number": 27
    },
    {
     "cell_type": "markdown",
     "metadata": {},
     "source": [
      "Now we'll scrape the directory of Inaugural Addresses."
     ]
    },
    {
     "cell_type": "code",
     "collapsed": false,
     "input": [
      "def get_all_inaugurals():\n",
      "    \"Visits website with links to all inaugurals. Scrapes each one. Writes JSON to file.\"\n",
      "    url = \"http://www.presidency.ucsb.edu/inaugurals.php\"\n",
      "    html = requests.get(url).text\n",
      "    dom = web.Element(html)\n",
      "    inaugurals = []\n",
      "    for link in web.find_urls(dom):\n",
      "        if fnmatch(link, \"*pid*\"):\n",
      "            inaugurals.append(get_document(link))\n",
      "    \n",
      "    f = open('inaugurals.json', 'w')\n",
      "    f.write(json.dumps(inaugurals, indent=2))\n",
      "    f.close()\n"
     ],
     "language": "python",
     "metadata": {},
     "outputs": [],
     "prompt_number": 28
    },
    {
     "cell_type": "code",
     "collapsed": false,
     "input": [
      "# toggle to scrape and store Inaugural Address data\n",
      "# get_all_inaugurals()"
     ],
     "language": "python",
     "metadata": {},
     "outputs": [],
     "prompt_number": 29
    },
    {
     "cell_type": "code",
     "collapsed": false,
     "input": [
      "# read in Inaugural Address data\n",
      "f = open('inaugurals.json')\n",
      "raw = f.read()\n",
      "inaugurals = json.loads(raw)"
     ],
     "language": "python",
     "metadata": {},
     "outputs": [],
     "prompt_number": 30
    },
    {
     "cell_type": "markdown",
     "metadata": {},
     "source": [
      "Next we'll scrape all Presidential Saturday Radio Addresses. These began with the Reagan Administration in 1982."
     ]
    },
    {
     "cell_type": "code",
     "collapsed": false,
     "input": [
      "def get_all_saturday_addresses():\n",
      "    \"Visits website with links to all Saturday Radio Addresses. Scrapes each one. Writes JSON to file.\"\n",
      "    saturday_addresses = []\n",
      "    base_url = \"http://www.presidency.ucsb.edu/ws/index.php?pid=\"\n",
      "    for year in range(1982,2014):\n",
      "        print \"Scraping Saturday Radio Addresses from {}...\".format(year)\n",
      "        sys.stdout.flush()\n",
      "        url = \"http://www.presidency.ucsb.edu/satradio.php?year={}\".format(year)\n",
      "        html = requests.get(url).text\n",
      "        dom = web.Element(html)\n",
      "        # can't use find_urls because the URLs we want are incomplete :\\\n",
      "        for link in dom.by_tag('a'):\n",
      "            link = str(link)\n",
      "            if fnmatch(link, \"*pid*\"):\n",
      "                # pull out the PID\n",
      "                pid = re.findall(r'\\d+', link)[0]\n",
      "                saturday_addresses.append(get_document(base_url+pid))\n",
      "    \n",
      "    f = open('saturday-addresses.json', 'w')\n",
      "    f.write(json.dumps(saturday_addresses, indent=2))\n",
      "    f.close()\n"
     ],
     "language": "python",
     "metadata": {},
     "outputs": [],
     "prompt_number": 31
    },
    {
     "cell_type": "code",
     "collapsed": false,
     "input": [
      "# toggle to scrape and store Saturday Radio Address data\n",
      "# get_all_saturday_addresses()"
     ],
     "language": "python",
     "metadata": {},
     "outputs": [],
     "prompt_number": 32
    },
    {
     "cell_type": "code",
     "collapsed": false,
     "input": [
      "# read in Saturday Radio Address data\n",
      "f = open('saturday-addresses.json')\n",
      "raw = f.read()\n",
      "saturday_addresses = json.loads(raw)"
     ],
     "language": "python",
     "metadata": {},
     "outputs": [],
     "prompt_number": 33
    },
    {
     "cell_type": "markdown",
     "metadata": {},
     "source": [
      "Now we'll scrape the approval ratings from the Gallup Presidential Job Approval Ratings"
     ]
    },
    {
     "cell_type": "code",
     "collapsed": false,
     "input": [
      "from HTMLParser import HTMLParser\n",
      "\n",
      "class MLStripper(HTMLParser):\n",
      "    def __init__(self):\n",
      "        self.reset()\n",
      "        self.fed = []\n",
      "    def handle_data(self, d):\n",
      "        self.fed.append(d)\n",
      "    def get_data(self):\n",
      "        return ''.join(self.fed)\n",
      "\n",
      "def strip_tags(html):\n",
      "    \"This code strips html tags from strings\"\n",
      "    s = MLStripper()\n",
      "    s.feed(html)\n",
      "    return s.get_data()\n"
     ],
     "language": "python",
     "metadata": {},
     "outputs": [],
     "prompt_number": 34
    },
    {
     "cell_type": "code",
     "collapsed": false,
     "input": [
      "def get_rating(pres_num):\n",
      "    \"Given the number of the president, returns a dictionary with the president's name and approval ratings\"\n",
      "    url = \"http://www.presidency.ucsb.edu/data/popularity.php?pres=\" + str(pres_num) + \"&sort=time&direct=DESC&Submit=DISPLAY\"\n",
      "    html = requests.get(url).text\n",
      "    dom = web.Element(html)\n",
      "    president = strip_tags(dom.by_tag('td.listdate')[0].content)\n",
      "    ratings = []\n",
      "    chart = dom.by_tag('td.listdate')\n",
      "    for i in reversed(range(len(chart))):\n",
      "        if i % 7 == 1:\n",
      "            data = dict()\n",
      "            data['president'] = president\n",
      "            data['poll_begin'] = chart[i].content\n",
      "            data['poll_end'] = chart[i+1].content\n",
      "            data['rating_approve'] = chart[i+3].content\n",
      "            data['rating_disapprove'] = chart[i+4].content\n",
      "            data['rating_unsure'] = chart[i+5].content\n",
      "            ratings.append(data)\n",
      "    \n",
      "    return ratings\n"
     ],
     "language": "python",
     "metadata": {},
     "outputs": [],
     "prompt_number": 35
    },
    {
     "cell_type": "code",
     "collapsed": false,
     "input": [
      "def get_all_ratings():\n",
      "    \"Gets all presidential approval ratings and stores in json file\"\n",
      "    pres_nums = range(32,45)\n",
      "    ratings = []\n",
      "    for num in pres_nums:\n",
      "        ratings += (get_rating(num))\n",
      "    \n",
      "    f = open('gallup.json', 'w')\n",
      "    f.write(json.dumps(ratings, indent=2))\n",
      "    f.close()\n"
     ],
     "language": "python",
     "metadata": {},
     "outputs": [],
     "prompt_number": 36
    },
    {
     "cell_type": "code",
     "collapsed": false,
     "input": [
      "# Toggle to scrape Gallup approval ratings from website\n",
      "get_all_ratings()\n"
     ],
     "language": "python",
     "metadata": {},
     "outputs": [],
     "prompt_number": 37
    },
    {
     "cell_type": "code",
     "collapsed": false,
     "input": [
      "# read in the Gallup job approval ratings\n",
      "f = open('gallup.json')\n",
      "raw = f.read()\n",
      "ratings = json.loads(raw)\n",
      "f.close()\n"
     ],
     "language": "python",
     "metadata": {},
     "outputs": [],
     "prompt_number": 38
    },
    {
     "cell_type": "code",
     "collapsed": false,
     "input": [
      "# put gallup poll data into a dataframe\n",
      "gallup = pd.DataFrame(ratings)\n"
     ],
     "language": "python",
     "metadata": {},
     "outputs": [],
     "prompt_number": 39
    },
    {
     "cell_type": "code",
     "collapsed": false,
     "input": [
      "# convert dates into datetime objects\n",
      "poll_begin = [dt.datetime.strptime(x,\"%m/%d/%Y\") for x in gallup.poll_begin]\n",
      "poll_end = [dt.datetime.strptime(x,\"%m/%d/%Y\") for x in gallup.poll_end]\n",
      "gallup['poll_begin'] = poll_begin\n",
      "gallup['poll_end'] = poll_end\n",
      "gallup.head()\n"
     ],
     "language": "python",
     "metadata": {},
     "outputs": [
      {
       "html": [
        "<div style=\"max-height:1000px;max-width:1500px;overflow:auto;\">\n",
        "<table border=\"1\" class=\"dataframe\">\n",
        "  <thead>\n",
        "    <tr style=\"text-align: right;\">\n",
        "      <th></th>\n",
        "      <th>poll_begin</th>\n",
        "      <th>poll_end</th>\n",
        "      <th>president</th>\n",
        "      <th>rating_approve</th>\n",
        "      <th>rating_disapprove</th>\n",
        "      <th>rating_unsure</th>\n",
        "    </tr>\n",
        "  </thead>\n",
        "  <tbody>\n",
        "    <tr>\n",
        "      <th>0</th>\n",
        "      <td> 1941-07-22 00:00:00</td>\n",
        "      <td> 1941-07-22 00:00:00</td>\n",
        "      <td> Franklin D. Roosevelt</td>\n",
        "      <td> 69</td>\n",
        "      <td> 24</td>\n",
        "      <td> 6</td>\n",
        "    </tr>\n",
        "    <tr>\n",
        "      <th>1</th>\n",
        "      <td> 1941-07-29 00:00:00</td>\n",
        "      <td> 1941-07-29 00:00:00</td>\n",
        "      <td> Franklin D. Roosevelt</td>\n",
        "      <td> 65</td>\n",
        "      <td> 25</td>\n",
        "      <td> 8</td>\n",
        "    </tr>\n",
        "    <tr>\n",
        "      <th>2</th>\n",
        "      <td> 1941-08-05 00:00:00</td>\n",
        "      <td> 1941-08-05 00:00:00</td>\n",
        "      <td> Franklin D. Roosevelt</td>\n",
        "      <td> 68</td>\n",
        "      <td> 23</td>\n",
        "      <td> 7</td>\n",
        "    </tr>\n",
        "    <tr>\n",
        "      <th>3</th>\n",
        "      <td> 1941-08-19 00:00:00</td>\n",
        "      <td> 1941-08-19 00:00:00</td>\n",
        "      <td> Franklin D. Roosevelt</td>\n",
        "      <td> 65</td>\n",
        "      <td> 26</td>\n",
        "      <td> 7</td>\n",
        "    </tr>\n",
        "    <tr>\n",
        "      <th>4</th>\n",
        "      <td> 1941-08-26 00:00:00</td>\n",
        "      <td> 1941-08-26 00:00:00</td>\n",
        "      <td> Franklin D. Roosevelt</td>\n",
        "      <td> 67</td>\n",
        "      <td> 24</td>\n",
        "      <td> 7</td>\n",
        "    </tr>\n",
        "  </tbody>\n",
        "</table>\n",
        "</div>"
       ],
       "metadata": {},
       "output_type": "pyout",
       "prompt_number": 40,
       "text": [
        "            poll_begin             poll_end              president  \\\n",
        "0  1941-07-22 00:00:00  1941-07-22 00:00:00  Franklin D. Roosevelt   \n",
        "1  1941-07-29 00:00:00  1941-07-29 00:00:00  Franklin D. Roosevelt   \n",
        "2  1941-08-05 00:00:00  1941-08-05 00:00:00  Franklin D. Roosevelt   \n",
        "3  1941-08-19 00:00:00  1941-08-19 00:00:00  Franklin D. Roosevelt   \n",
        "4  1941-08-26 00:00:00  1941-08-26 00:00:00  Franklin D. Roosevelt   \n",
        "\n",
        "  rating_approve rating_disapprove rating_unsure  \n",
        "0             69                24             6  \n",
        "1             65                25             8  \n",
        "2             68                23             7  \n",
        "3             65                26             7  \n",
        "4             67                24             7  "
       ]
      }
     ],
     "prompt_number": 40
    },
    {
     "cell_type": "code",
     "collapsed": false,
     "input": [
      "x = plt.plot(list(gallup.poll_begin), list(gallup.rating_approve))"
     ],
     "language": "python",
     "metadata": {},
     "outputs": [
      {
       "metadata": {},
       "output_type": "display_data",
       "png": "[encoded data removed]",
       "text": [
        "<matplotlib.figure.Figure at 0x10c27e250>"
       ]
      }
     ],
     "prompt_number": 41
    },
    {
     "cell_type": "code",
     "collapsed": false,
     "input": [],
     "language": "python",
     "metadata": {},
     "outputs": []
    }
   ],
   "metadata": {}
  }
 ]
}